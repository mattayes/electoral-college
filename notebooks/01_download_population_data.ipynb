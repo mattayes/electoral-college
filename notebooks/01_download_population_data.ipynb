{
 "cells": [
  {
   "cell_type": "markdown",
   "metadata": {},
   "source": [
    "# Setup"
   ]
  },
  {
   "cell_type": "code",
   "execution_count": null,
   "metadata": {
    "collapsed": true
   },
   "outputs": [],
   "source": [
    "import pandas as pd"
   ]
  },
  {
   "cell_type": "markdown",
   "metadata": {},
   "source": [
    "# Read data"
   ]
  },
  {
   "cell_type": "code",
   "execution_count": null,
   "metadata": {
    "collapsed": false
   },
   "outputs": [],
   "source": [
    "def read_data():\n",
    "    \"\"\"Read U.S. population data from Wikipedia.\"\"\"\n",
    "    # Setup\n",
    "    URL = 'https://en.wikipedia.org/wiki/List_of_U.S._states_and_territories_by_population'\n",
    "    bad_states = ('The fifty states', 'Fifty states + D.C.', 'Total U.S. territory')\n",
    "    columns = {\n",
    "        'State or territory': 'state',\n",
    "        'Total seats in House of Representatives, 2013–2023': 'house_seats',\n",
    "        'Percent of total U.S. pop., 2015[note 1]': 'pct_of_pop'\n",
    "    }\n",
    "\n",
    "    return (\n",
    "        pd.read_html(URL, header=0)\n",
    "        [1]\n",
    "        .rename(columns=columns)\n",
    "        .loc[lambda df: ~df.state.isin(bad_states), columns.values()]\n",
    "    )"
   ]
  },
  {
   "cell_type": "markdown",
   "metadata": {},
   "source": [
    "# Clean data"
   ]
  },
  {
   "cell_type": "code",
   "execution_count": null,
   "metadata": {
    "collapsed": false
   },
   "outputs": [],
   "source": [
    "def clean_pct_of_pop(df):\n",
    "    return df.pct_of_pop.str.strip('%').astype(float)"
   ]
  },
  {
   "cell_type": "code",
   "execution_count": null,
   "metadata": {
    "collapsed": true
   },
   "outputs": [],
   "source": [
    "def clean_house_seats(df):\n",
    "    return df.house_seats.str.extract('^\\d+♠(\\d+)', expand=False).fillna(0).astype(int)"
   ]
  },
  {
   "cell_type": "code",
   "execution_count": null,
   "metadata": {
    "collapsed": true
   },
   "outputs": [],
   "source": [
    "def clean(df):\n",
    "    return df.assign(\n",
    "        pct_of_pop=clean_pct_of_pop,\n",
    "        house_seats=clean_house_seats\n",
    "    )"
   ]
  },
  {
   "cell_type": "markdown",
   "metadata": {},
   "source": [
    "# Add columns"
   ]
  },
  {
   "cell_type": "code",
   "execution_count": null,
   "metadata": {
    "collapsed": true
   },
   "outputs": [],
   "source": [
    "def assign_pct_of_house(df):\n",
    "    return df.house_seats.div(df.house_seats.sum()).mul(100).round(2)"
   ]
  },
  {
   "cell_type": "code",
   "execution_count": null,
   "metadata": {
    "collapsed": false
   },
   "outputs": [],
   "source": [
    "def assign(df):\n",
    "    return df.assign(\n",
    "        pct_of_house=assign_pct_of_house\n",
    "    )"
   ]
  },
  {
   "cell_type": "markdown",
   "metadata": {},
   "source": [
    "# Remove columns"
   ]
  },
  {
   "cell_type": "code",
   "execution_count": null,
   "metadata": {
    "collapsed": true
   },
   "outputs": [],
   "source": [
    "def remove(df):\n",
    "    return df.drop('house_seats', axis=1)"
   ]
  },
  {
   "cell_type": "markdown",
   "metadata": {},
   "source": [
    "# Putting it together"
   ]
  },
  {
   "cell_type": "code",
   "execution_count": null,
   "metadata": {
    "collapsed": false
   },
   "outputs": [],
   "source": [
    "df = read_data().pipe(clean).pipe(assign).pipe(remove).set_index('state').sort_index()"
   ]
  },
  {
   "cell_type": "markdown",
   "metadata": {},
   "source": [
    "# To CSV"
   ]
  },
  {
   "cell_type": "code",
   "execution_count": null,
   "metadata": {
    "collapsed": true
   },
   "outputs": [],
   "source": [
    "df.to_csv('../data/pop.csv')"
   ]
  }
 ],
 "metadata": {
  "anaconda-cloud": {},
  "kernelspec": {
   "display_name": "Python [default]",
   "language": "python",
   "name": "python3"
  },
  "language_info": {
   "codemirror_mode": {
    "name": "ipython",
    "version": 3
   },
   "file_extension": ".py",
   "mimetype": "text/x-python",
   "name": "python",
   "nbconvert_exporter": "python",
   "pygments_lexer": "ipython3",
   "version": "3.5.2"
  }
 },
 "nbformat": 4,
 "nbformat_minor": 1
}
