{
 "cells": [
  {
   "cell_type": "markdown",
   "metadata": {},
   "source": [
    "# Setup"
   ]
  },
  {
   "cell_type": "code",
   "execution_count": null,
   "metadata": {
    "collapsed": true
   },
   "outputs": [],
   "source": [
    "%matplotlib inline"
   ]
  },
  {
   "cell_type": "code",
   "execution_count": null,
   "metadata": {
    "collapsed": true
   },
   "outputs": [],
   "source": [
    "import matplotlib.patches as mpatches\n",
    "import matplotlib.pyplot as plt\n",
    "import numpy as np\n",
    "import pandas as pd\n",
    "import seaborn as sns"
   ]
  },
  {
   "cell_type": "markdown",
   "metadata": {},
   "source": [
    "# Load data"
   ]
  },
  {
   "cell_type": "code",
   "execution_count": null,
   "metadata": {
    "collapsed": false
   },
   "outputs": [],
   "source": [
    "df = pd.read_csv('../data/final.csv', index_col=['state'])"
   ]
  },
  {
   "cell_type": "markdown",
   "metadata": {},
   "source": [
    "# Plot"
   ]
  },
  {
   "cell_type": "code",
   "execution_count": null,
   "metadata": {
    "collapsed": false
   },
   "outputs": [],
   "source": [
    "df.sort_values('pct_of_pop', ascending=False).plot();"
   ]
  },
  {
   "cell_type": "code",
   "execution_count": null,
   "metadata": {
    "collapsed": false
   },
   "outputs": [],
   "source": [
    "(\n",
    "    df\n",
    "    .sort_values('pct_of_pop', ascending=False)\n",
    "    .assign(\n",
    "        difference=lambda df: df.pct_of_electors.div(df.pct_of_pop),\n",
    "        cum_sum=lambda df: df.pct_of_pop.cumsum()\n",
    "    )\n",
    "    .plot('cum_sum', 'difference')\n",
    ")\n",
    "plt.xticks(np.arange(101, step=5))\n",
    "plt.xlabel('Percent of U.S. Population (Cumulative)')\n",
    "plt.ylabel('Representativeness');"
   ]
  },
  {
   "cell_type": "code",
   "execution_count": null,
   "metadata": {
    "collapsed": false
   },
   "outputs": [],
   "source": [
    "(\n",
    "    df\n",
    "    .sort_values('pct_of_pop')\n",
    "    .assign(\n",
    "        difference=lambda df: df.pct_of_electors.div(df.pct_of_pop).sub(1),\n",
    "    )\n",
    "    .difference\n",
    "    .plot.barh(figsize=(8, 14))\n",
    ")\n",
    "\n",
    "plt.xticks(np.arange(-0.5, 3, 0.5), ['{}%'.format(x) for x in np.arange(50, 400, 50)])\n",
    "plt.gca().yaxis.grid(False)\n",
    "\n",
    "plt.axvline(0, c='k')\n",
    "\n",
    "plt.xlabel('Representativeness (% of Electors - % of Populaton)')\n",
    "plt.ylabel('States (Ordered from Highest Population to Lowest)')\n",
    "plt.title('Over- vs. Under-Representation in the Electoral College');"
   ]
  },
  {
   "cell_type": "code",
   "execution_count": null,
   "metadata": {
    "collapsed": false
   },
   "outputs": [],
   "source": [
    "plot_df = (\n",
    "    df\n",
    "    .sort_values('pct_of_pop')\n",
    "    .assign(difference=lambda df: df.pct_of_electors.div(df.pct_of_pop).sub(1))\n",
    ")\n",
    "\n",
    "def colors(series):\n",
    "    c = pd.Series(index=series.index)\n",
    "    \n",
    "    c.loc[series.lt(0)] = '#ef8a62'\n",
    "    c.loc[series.eq(0)] = '#f7f7f7'\n",
    "    c.loc[series.gt(0)] = '#67a9cf'\n",
    "    \n",
    "    return c.tolist()\n",
    "\n",
    "(\n",
    "    plot_df\n",
    "    .difference\n",
    "    .plot.barh(figsize=(8, 14), color=plot_df.difference.pipe(colors))\n",
    ")\n",
    "\n",
    "plt.xticks(np.arange(-0.5, 3, 0.5), ['{}%'.format(x) for x in np.arange(50, 400, 50)])\n",
    "plt.gca().yaxis.grid(False)\n",
    "\n",
    "plt.xlabel(r'$Representativeness \\/ \\left(\\frac{\\% \\/ of \\/ Electors}{\\% \\/ of \\/ Populaton}\\right)$')\n",
    "plt.ylabel('States (Ordered from Highest Population to Lowest)')\n",
    "plt.title('Over- vs. Under-Representation in the Electoral College');"
   ]
  },
  {
   "cell_type": "code",
   "execution_count": null,
   "metadata": {
    "collapsed": false
   },
   "outputs": [],
   "source": [
    "def proportional_difference(df):\n",
    "    difference = df.pct_of_electors.div(df.pct_of_pop)\n",
    "    \n",
    "    lt = difference.lt(1)\n",
    "    eq = difference.eq(1)\n",
    "    gt = difference.gt(1)\n",
    "    \n",
    "    difference.loc[lt] = difference.loc[lt].rdiv(1).rsub(1)\n",
    "    difference.loc[eq] = 0\n",
    "    difference.loc[gt] = difference.loc[gt].sub(1)\n",
    "    \n",
    "    return difference\n",
    "\n",
    "plot_df = (\n",
    "    df\n",
    "    .sort_values('pct_of_pop')\n",
    "    .assign(\n",
    "        difference=lambda df: df.pct_of_electors.div(df.pct_of_pop).sub(1),\n",
    "        prop_diff=proportional_difference,\n",
    "    )\n",
    ")\n",
    "\n",
    "def colors(series):\n",
    "    c = pd.Series(index=series.index)\n",
    "    \n",
    "    c.loc[series.lt(0)] = '#ef8a62'\n",
    "    c.loc[series.eq(0)] = '#f7f7f7'\n",
    "    c.loc[series.gt(0)] = '#67a9cf'\n",
    "    \n",
    "    return c.tolist()\n",
    "\n",
    "(\n",
    "    plot_df\n",
    "    .prop_diff\n",
    "    .plot.barh(figsize=(8, 14), color=plot_df.prop_diff.pipe(colors))\n",
    ")\n",
    "\n",
    "plt.xticks(np.arange(-0.5, 3, 0.5), ['{}%'.format(x) for x in np.arange(50, 400, 50)])\n",
    "plt.gca().yaxis.grid(False)\n",
    "\n",
    "plt.xlabel('Representativeness (adjusted)')\n",
    "plt.ylabel('States (Ordered from Highest Population to Lowest)')\n",
    "plt.title('Over- vs. Under-Representation in the Electoral College');"
   ]
  },
  {
   "cell_type": "code",
   "execution_count": null,
   "metadata": {
    "collapsed": false
   },
   "outputs": [],
   "source": [
    "plot_df = (\n",
    "    df\n",
    "    .sort_values('pct_of_pop')\n",
    "    .assign(\n",
    "        difference=lambda df: df.pct_of_electors.div(df.pct_of_pop).sub(1),\n",
    "        president=lambda df: df.president.fillna('Inconclusive')\n",
    "    )\n",
    ")\n",
    "\n",
    "def colors(series):\n",
    "    c = pd.Series({'Rep': '#ef8a62', 'Dem': '#67a9cf', 'Inconclusive': '#f7f7f7'})\n",
    "    \n",
    "    return series.map(c).tolist()\n",
    "\n",
    "def build_legend():\n",
    "    dem = mpatches.Patch(color='#67a9cf', label='Democrat')\n",
    "    rep = mpatches.Patch(color='#ef8a62', label='Republican')\n",
    "    inc = mpatches.Patch(color='#f7f7f7', label='Inconclusive')\n",
    "    \n",
    "    return plt.legend(handles=[dem, inc, rep])\n",
    "\n",
    "(\n",
    "    plot_df\n",
    "    .difference\n",
    "    .plot.barh(figsize=(8, 14), color=plot_df.president.pipe(colors))\n",
    ")\n",
    "\n",
    "plt.xticks(np.arange(-0.5, 3, 0.5), ['{}%'.format(x) for x in np.arange(50, 400, 50)])\n",
    "plt.gca().yaxis.grid(False)\n",
    "\n",
    "plt.xlabel(r'$Representativeness \\/ \\left(\\frac{\\% \\/ of \\/ Electors}{\\% \\/ of \\/ Populaton}\\right)$')\n",
    "plt.ylabel('States (Ordered from Highest Population to Lowest)')\n",
    "plt.title('Over- vs. Under-Representation in the Electoral College')\n",
    "\n",
    "build_legend();"
   ]
  },
  {
   "cell_type": "code",
   "execution_count": null,
   "metadata": {
    "collapsed": false
   },
   "outputs": [],
   "source": [
    "plot_series = (\n",
    "    df\n",
    "    .sort_values('pct_of_pop')\n",
    "    .assign(\n",
    "        difference=lambda df: df.pct_of_electors.div(df.pct_of_pop),\n",
    "        president=lambda df: df.president.fillna('Inconclusive')\n",
    "    )\n",
    "    .groupby('president')\n",
    "    .difference\n",
    "    .mean()\n",
    ")\n",
    "\n",
    "def colors(series):\n",
    "    c = pd.Series({'Rep': '#ef8a62', 'Dem': '#67a9cf', 'Inconclusive': '#f7f7f7'})\n",
    "    \n",
    "    return c.reindex(series.index).tolist()\n",
    "\n",
    "(\n",
    "    plot_series\n",
    "    .plot.bar(rot=0, ylim=(0, 1.5), color=plot_series.pipe(colors))\n",
    ")\n",
    "\n",
    "plt.yticks(np.arange(0, 1.6, 0.2), ['{}%'.format(x) for x in np.arange(0, 160, 20)])\n",
    "\n",
    "plt.xlabel('Party')\n",
    "plt.ylabel('Mean Representativeness')\n",
    "plt.title('Over- vs. Under-Representation in the Electoral College');"
   ]
  },
  {
   "cell_type": "code",
   "execution_count": null,
   "metadata": {
    "collapsed": false
   },
   "outputs": [],
   "source": [
    "plot_series = (\n",
    "    df\n",
    "    .sort_values('pct_of_pop')\n",
    "    .assign(\n",
    "        difference=lambda df: df.pct_of_electors.div(df.pct_of_pop),\n",
    "        president=lambda df: df.president.fillna('Inconclusive')\n",
    "    )\n",
    "    .groupby('president')\n",
    "    .size()\n",
    ")\n",
    "\n",
    "def colors(series):\n",
    "    c = pd.Series({'Rep': '#ef8a62', 'Dem': '#67a9cf', 'Inconclusive': '#f7f7f7'})\n",
    "    \n",
    "    return c.reindex(series.index).tolist()\n",
    "\n",
    "(\n",
    "    plot_series\n",
    "    .plot.bar(rot=0, ylim=(0, 50), color=plot_series.pipe(colors))\n",
    ")\n",
    "\n",
    "plt.xlabel('Party')\n",
    "plt.ylabel('Number of states')\n",
    "plt.title('Over- vs. Under-Representation in the Electoral College');"
   ]
  }
 ],
 "metadata": {
  "anaconda-cloud": {},
  "kernelspec": {
   "display_name": "Python [default]",
   "language": "python",
   "name": "python3"
  },
  "language_info": {
   "codemirror_mode": {
    "name": "ipython",
    "version": 3
   },
   "file_extension": ".py",
   "mimetype": "text/x-python",
   "name": "python",
   "nbconvert_exporter": "python",
   "pygments_lexer": "ipython3",
   "version": "3.5.2"
  }
 },
 "nbformat": 4,
 "nbformat_minor": 1
}
